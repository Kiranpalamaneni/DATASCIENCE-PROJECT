{
  "metadata": {
    "kernelspec": {
      "language": "python",
      "display_name": "Python 3",
      "name": "python3"
    },
    "language_info": {
      "pygments_lexer": "ipython3",
      "nbconvert_exporter": "python",
      "version": "3.6.4",
      "file_extension": ".py",
      "codemirror_mode": {
        "name": "ipython",
        "version": 3
      },
      "name": "python",
      "mimetype": "text/x-python"
    },
    "colab": {
      "name": "EDA on Google Play Reviews of UPI Apps.",
      "provenance": [],
      "include_colab_link": true
    }
  },
  "nbformat_minor": 0,
  "nbformat": 4,
  "cells": [
    {
      "cell_type": "markdown",
      "metadata": {
        "id": "view-in-github",
        "colab_type": "text"
      },
      "source": [
        "<a href=\"https://colab.research.google.com/github/Kiranpalamaneni/DATASCIENCE-PROJECT/blob/main/EDA_on_Google_Play_Reviews_of_UPI_Apps_.ipynb\" target=\"_parent\"><img src=\"https://colab.research.google.com/assets/colab-badge.svg\" alt=\"Open In Colab\"/></a>"
      ]
    },
    {
      "source": [
        "\n",
        "# IMPORTANT: RUN THIS CELL IN ORDER TO IMPORT YOUR KAGGLE DATA SOURCES\n",
        "# TO THE CORRECT LOCATION (/kaggle/input) IN YOUR NOTEBOOK,\n",
        "# THEN FEEL FREE TO DELETE THIS CELL.\n",
        "# NOTE: THIS NOTEBOOK ENVIRONMENT DIFFERS FROM KAGGLE'S PYTHON\n",
        "# ENVIRONMENT SO THERE MAY BE MISSING LIBRARIES USED BY YOUR\n",
        "# NOTEBOOK.\n",
        "\n",
        "import os\n",
        "import sys\n",
        "from tempfile import NamedTemporaryFile\n",
        "from urllib.request import urlopen\n",
        "from urllib.parse import unquote, urlparse\n",
        "from urllib.error import HTTPError\n",
        "from zipfile import ZipFile\n",
        "import tarfile\n",
        "import shutil\n",
        "\n",
        "CHUNK_SIZE = 40960\n",
        "DATA_SOURCE_MAPPING = 'googleplayreviewsofupiapps:https%3A%2F%2Fstorage.googleapis.com%2Fkaggle-data-sets%2F3535830%2F6163107%2Fbundle%2Farchive.zip%3FX-Goog-Algorithm%3DGOOG4-RSA-SHA256%26X-Goog-Credential%3Dgcp-kaggle-com%2540kaggle-161607.iam.gserviceaccount.com%252F20240701%252Fauto%252Fstorage%252Fgoog4_request%26X-Goog-Date%3D20240701T154344Z%26X-Goog-Expires%3D259200%26X-Goog-SignedHeaders%3Dhost%26X-Goog-Signature%3D83643c7d0a17ec0dedec33943bda8f34a812fdd041f9a8c75908ebdfb6b2b0942d34dd460849056ea4f53b8ef77a487933693c168cf907a3edea584289275843d7e5854cd0662e46af661959db9e8821e9dfb72e5f51f386fa2c1dc1d9c2bd59c0ba0aa7271c239d674a80db6984b611b0d8846e6d1a5748d20ee6a47ed0246d8cf3fea830fb95546f6742f5f311ed116845c0621c8582497db47d194ccd6faea12fe8e9faf3e7ef3ab3b69c966281f945c4eb9535ee58af16f3fa0a81b8bd0597d55eee4111eaa9339cc86c837e4a83070ce74a70c8f690c00b8918ebc562e67cef7ea9162b7db99781d54b98940aef4098cef8151ac12a02eac7ceec576db2'\n",
        "\n",
        "KAGGLE_INPUT_PATH='/kaggle/input'\n",
        "KAGGLE_WORKING_PATH='/kaggle/working'\n",
        "KAGGLE_SYMLINK='kaggle'\n",
        "\n",
        "!umount /kaggle/input/ 2> /dev/null\n",
        "shutil.rmtree('/kaggle/input', ignore_errors=True)\n",
        "os.makedirs(KAGGLE_INPUT_PATH, 0o777, exist_ok=True)\n",
        "os.makedirs(KAGGLE_WORKING_PATH, 0o777, exist_ok=True)\n",
        "\n",
        "try:\n",
        "  os.symlink(KAGGLE_INPUT_PATH, os.path.join(\"..\", 'input'), target_is_directory=True)\n",
        "except FileExistsError:\n",
        "  pass\n",
        "try:\n",
        "  os.symlink(KAGGLE_WORKING_PATH, os.path.join(\"..\", 'working'), target_is_directory=True)\n",
        "except FileExistsError:\n",
        "  pass\n",
        "\n",
        "for data_source_mapping in DATA_SOURCE_MAPPING.split(','):\n",
        "    directory, download_url_encoded = data_source_mapping.split(':')\n",
        "    download_url = unquote(download_url_encoded)\n",
        "    filename = urlparse(download_url).path\n",
        "    destination_path = os.path.join(KAGGLE_INPUT_PATH, directory)\n",
        "    try:\n",
        "        with urlopen(download_url) as fileres, NamedTemporaryFile() as tfile:\n",
        "            total_length = fileres.headers['content-length']\n",
        "            print(f'Downloading {directory}, {total_length} bytes compressed')\n",
        "            dl = 0\n",
        "            data = fileres.read(CHUNK_SIZE)\n",
        "            while len(data) > 0:\n",
        "                dl += len(data)\n",
        "                tfile.write(data)\n",
        "                done = int(50 * dl / int(total_length))\n",
        "                sys.stdout.write(f\"\\r[{'=' * done}{' ' * (50-done)}] {dl} bytes downloaded\")\n",
        "                sys.stdout.flush()\n",
        "                data = fileres.read(CHUNK_SIZE)\n",
        "            if filename.endswith('.zip'):\n",
        "              with ZipFile(tfile) as zfile:\n",
        "                zfile.extractall(destination_path)\n",
        "            else:\n",
        "              with tarfile.open(tfile.name) as tarfile:\n",
        "                tarfile.extractall(destination_path)\n",
        "            print(f'\\nDownloaded and uncompressed: {directory}')\n",
        "    except HTTPError as e:\n",
        "        print(f'Failed to load (likely expired) {download_url} to path {destination_path}')\n",
        "        continue\n",
        "    except OSError as e:\n",
        "        print(f'Failed to load {download_url} to path {destination_path}')\n",
        "        continue\n",
        "\n",
        "print('Data source import complete.')\n"
      ],
      "metadata": {
        "id": "cciKeGyp922b"
      },
      "cell_type": "code",
      "outputs": [],
      "execution_count": null
    },
    {
      "cell_type": "markdown",
      "source": [
        "# **Exploratory Data Analysis of UPI App Reviews**\n",
        "\n",
        "UPI (Unified Payments Interface) has revolutionized digital payments in India. In this analysis, we will explore customer reviews of the top 3 UPI apps - [GPay](https://play.google.com/store/apps/details?id=com.google.android.apps.nbu.paisa.user&hl=en&gl=US), [Paytm](https://play.google.com/store/apps/details?id=net.one97.paytm&hl=en&gl=US) and [PhonePe](https://play.google.com/store/apps/details?id=com.phonepe.app&hl=en&gl=US) on the Google Play Store to uncover insights."
      ],
      "metadata": {
        "id": "M094fron922g"
      }
    },
    {
      "cell_type": "markdown",
      "source": [
        "#### Notebooks(used to scrape data and copy of this analysis), csv files of dataset can be found of my [GitHub Repositories.](http://https://github.com/hridjain/googleplayupireviews)"
      ],
      "metadata": {
        "id": "WKTMZn7Y922j"
      }
    },
    {
      "cell_type": "markdown",
      "source": [
        "![](https://cdn.iconscout.com/icon/free/png-256/free-upi-2085056-1747946.png)"
      ],
      "metadata": {
        "id": "91g1o50O922k"
      }
    },
    {
      "cell_type": "markdown",
      "source": [
        "In our study, we have performed EDA on the reviews of three popular UPI (Unified Payments Interface) apps in India - Google Pay, Paytm, and PhonePe. The dataset for this analysis is scraped from publicly available data on Google Play Store."
      ],
      "metadata": {
        "id": "WKl-M4ZN922l"
      }
    },
    {
      "cell_type": "code",
      "source": [
        "import pandas as pd\n",
        "import numpy as np\n",
        "import matplotlib.pyplot as plt\n",
        "import seaborn as sns"
      ],
      "metadata": {
        "execution": {
          "iopub.status.busy": "2023-07-27T18:38:07.410598Z",
          "iopub.execute_input": "2023-07-27T18:38:07.410947Z",
          "iopub.status.idle": "2023-07-27T18:38:07.416442Z",
          "shell.execute_reply.started": "2023-07-27T18:38:07.410918Z",
          "shell.execute_reply": "2023-07-27T18:38:07.414953Z"
        },
        "trusted": true,
        "id": "vJ0l3SUc922l"
      },
      "execution_count": null,
      "outputs": []
    },
    {
      "cell_type": "markdown",
      "source": [
        "Initially, we will import libraries in new notebook and load the data using the pandas read_csv function.\n",
        "We can directly use data uploaded on Kaggle but I prefer using it from GitHub so code can be executed from anywhere."
      ],
      "metadata": {
        "id": "WRE0SDor922m"
      }
    },
    {
      "cell_type": "code",
      "source": [
        "google_data = pd.read_csv(\"https://github.com/hridjain/googleplayupireviews/raw/main/gpay_help.csv\")\n",
        "paytm_data = pd.read_csv(\"https://github.com/hridjain/googleplayupireviews/raw/main/paytm_help.csv\")\n",
        "phonepe_data = pd.read_csv(\"https://github.com/hridjain/googleplayupireviews/raw/main/phonepe_help.csv\")"
      ],
      "metadata": {
        "execution": {
          "iopub.status.busy": "2023-07-27T18:38:07.478311Z",
          "iopub.execute_input": "2023-07-27T18:38:07.4791Z",
          "iopub.status.idle": "2023-07-27T18:38:09.865992Z",
          "shell.execute_reply.started": "2023-07-27T18:38:07.47907Z",
          "shell.execute_reply": "2023-07-27T18:38:09.865239Z"
        },
        "trusted": true,
        "id": "kxoZS1P2922n"
      },
      "execution_count": null,
      "outputs": []
    },
    {
      "cell_type": "markdown",
      "source": [
        "The data for each app is loaded into separate dataframes for individual analysis. The .head() function provides the first five records of each dataset, giving us an idea of the structure and features of the data."
      ],
      "metadata": {
        "id": "Q61SNthF922o"
      }
    },
    {
      "cell_type": "code",
      "source": [
        "google_data.head()"
      ],
      "metadata": {
        "execution": {
          "iopub.status.busy": "2023-07-27T18:38:09.867312Z",
          "iopub.execute_input": "2023-07-27T18:38:09.867673Z",
          "iopub.status.idle": "2023-07-27T18:38:09.886237Z",
          "shell.execute_reply.started": "2023-07-27T18:38:09.867652Z",
          "shell.execute_reply": "2023-07-27T18:38:09.88426Z"
        },
        "trusted": true,
        "id": "EKkBdi6b922o"
      },
      "execution_count": null,
      "outputs": []
    },
    {
      "cell_type": "code",
      "source": [
        "paytm_data.head()"
      ],
      "metadata": {
        "execution": {
          "iopub.status.busy": "2023-07-27T18:38:09.888387Z",
          "iopub.execute_input": "2023-07-27T18:38:09.889072Z",
          "iopub.status.idle": "2023-07-27T18:38:09.906648Z",
          "shell.execute_reply.started": "2023-07-27T18:38:09.889037Z",
          "shell.execute_reply": "2023-07-27T18:38:09.905781Z"
        },
        "trusted": true,
        "id": "cv5vEWcL922p"
      },
      "execution_count": null,
      "outputs": []
    },
    {
      "cell_type": "code",
      "source": [
        "phonepe_data.head()"
      ],
      "metadata": {
        "execution": {
          "iopub.status.busy": "2023-07-27T18:38:09.908908Z",
          "iopub.execute_input": "2023-07-27T18:38:09.910414Z",
          "iopub.status.idle": "2023-07-27T18:38:09.931303Z",
          "shell.execute_reply.started": "2023-07-27T18:38:09.910378Z",
          "shell.execute_reply": "2023-07-27T18:38:09.930048Z"
        },
        "trusted": true,
        "id": "JpeqwyB8922q"
      },
      "execution_count": null,
      "outputs": []
    },
    {
      "cell_type": "markdown",
      "source": [
        "# **Feature Engineering**"
      ],
      "metadata": {
        "id": "T6aXwUkj922r"
      }
    },
    {
      "cell_type": "code",
      "source": [
        "google_data.dtypes"
      ],
      "metadata": {
        "execution": {
          "iopub.status.busy": "2023-07-27T18:38:09.932598Z",
          "iopub.execute_input": "2023-07-27T18:38:09.933831Z",
          "iopub.status.idle": "2023-07-27T18:38:09.945797Z",
          "shell.execute_reply.started": "2023-07-27T18:38:09.933791Z",
          "shell.execute_reply": "2023-07-27T18:38:09.944578Z"
        },
        "trusted": true,
        "id": "syYWNOHT922r"
      },
      "execution_count": null,
      "outputs": []
    },
    {
      "cell_type": "markdown",
      "source": [
        "The 'at' column in google_data is converted to datetime format. A new column 'date' is created by extracting the date from the 'at' column."
      ],
      "metadata": {
        "id": "HRZFl5su922s"
      }
    },
    {
      "cell_type": "code",
      "source": [
        "google_data['at'] = pd.to_datetime(google_data['at'])\n",
        "google_data['date'] = google_data['at'].dt.date"
      ],
      "metadata": {
        "execution": {
          "iopub.status.busy": "2023-07-27T18:38:09.947095Z",
          "iopub.execute_input": "2023-07-27T18:38:09.948073Z",
          "iopub.status.idle": "2023-07-27T18:38:13.053596Z",
          "shell.execute_reply.started": "2023-07-27T18:38:09.948042Z",
          "shell.execute_reply": "2023-07-27T18:38:13.05262Z"
        },
        "trusted": true,
        "id": "6wW8YM6E922s"
      },
      "execution_count": null,
      "outputs": []
    },
    {
      "cell_type": "markdown",
      "source": [
        "The 'Unnamed: 2' column in dataset is dropped since it is not necessary for the analysis, such as at(after creating a date column in previous step) and repliedAt that signify the timestamp of the review and reply, respectively. Since reviewCreatedVersion and appVersion represent the same information, we also drop one of them."
      ],
      "metadata": {
        "id": "3LEBtQh7922s"
      }
    },
    {
      "cell_type": "code",
      "source": [
        "google_data.drop('Unnamed: 2', axis = 'columns', inplace = True)\n",
        "google_data.drop('at', axis = 'columns', inplace = True)\n",
        "google_data.drop('repliedAt', axis = 'columns', inplace = True)\n",
        "google_data.drop('reviewCreatedVersion', axis = 'columns', inplace = True)"
      ],
      "metadata": {
        "execution": {
          "iopub.status.busy": "2023-07-27T18:38:13.054642Z",
          "iopub.execute_input": "2023-07-27T18:38:13.054916Z",
          "iopub.status.idle": "2023-07-27T18:38:13.086302Z",
          "shell.execute_reply.started": "2023-07-27T18:38:13.054891Z",
          "shell.execute_reply": "2023-07-27T18:38:13.085305Z"
        },
        "trusted": true,
        "id": "nx7olfbg922s"
      },
      "execution_count": null,
      "outputs": []
    },
    {
      "cell_type": "markdown",
      "source": [
        "The same operations are performed for the paytm_data and phonepe_data as well."
      ],
      "metadata": {
        "id": "KtAo050D922t"
      }
    },
    {
      "cell_type": "code",
      "source": [
        "paytm_data['at'] = pd.to_datetime(paytm_data['at'])\n",
        "paytm_data['date'] = paytm_data['at'].dt.date"
      ],
      "metadata": {
        "execution": {
          "iopub.status.busy": "2023-07-27T18:38:13.087631Z",
          "iopub.execute_input": "2023-07-27T18:38:13.087919Z",
          "iopub.status.idle": "2023-07-27T18:38:16.181802Z",
          "shell.execute_reply.started": "2023-07-27T18:38:13.087888Z",
          "shell.execute_reply": "2023-07-27T18:38:16.180895Z"
        },
        "trusted": true,
        "id": "EyYwPsb0922u"
      },
      "execution_count": null,
      "outputs": []
    },
    {
      "cell_type": "code",
      "source": [
        "paytm_data.drop('Unnamed: 2', axis = 'columns', inplace = True)\n",
        "paytm_data.drop('at', axis = 'columns', inplace = True)\n",
        "paytm_data.drop('repliedAt', axis = 'columns', inplace = True)\n",
        "paytm_data.drop('reviewCreatedVersion', axis = 'columns', inplace = True)"
      ],
      "metadata": {
        "execution": {
          "iopub.status.busy": "2023-07-27T18:38:16.183005Z",
          "iopub.execute_input": "2023-07-27T18:38:16.183848Z",
          "iopub.status.idle": "2023-07-27T18:38:16.215107Z",
          "shell.execute_reply.started": "2023-07-27T18:38:16.183802Z",
          "shell.execute_reply": "2023-07-27T18:38:16.213526Z"
        },
        "trusted": true,
        "id": "N8acZcBi922u"
      },
      "execution_count": null,
      "outputs": []
    },
    {
      "cell_type": "code",
      "source": [
        "phonepe_data['at'] = pd.to_datetime(phonepe_data['at'])\n",
        "phonepe_data['date'] = phonepe_data['at'].dt.date\n",
        "phonepe_data.drop('Unnamed: 2', axis = 'columns', inplace = True)\n",
        "phonepe_data.drop('at', axis = 'columns', inplace = True)\n",
        "phonepe_data.drop('repliedAt', axis = 'columns', inplace = True)\n",
        "phonepe_data.drop('reviewCreatedVersion', axis = 'columns', inplace = True)"
      ],
      "metadata": {
        "execution": {
          "iopub.status.busy": "2023-07-27T18:38:16.219411Z",
          "iopub.execute_input": "2023-07-27T18:38:16.219744Z",
          "iopub.status.idle": "2023-07-27T18:38:19.329061Z",
          "shell.execute_reply.started": "2023-07-27T18:38:16.219716Z",
          "shell.execute_reply": "2023-07-27T18:38:19.327578Z"
        },
        "trusted": true,
        "id": "sT6dADA7922v"
      },
      "execution_count": null,
      "outputs": []
    },
    {
      "cell_type": "markdown",
      "source": [
        "## **Handling Missing Values**"
      ],
      "metadata": {
        "id": "kOi9L0DZ922w"
      }
    },
    {
      "cell_type": "markdown",
      "source": [
        "We first identify the presence of null values in our dataset using the .isnull().sum() function. This reveals that some features like replyContent and appVersion have null values."
      ],
      "metadata": {
        "id": "3k0iUYE9922w"
      }
    },
    {
      "cell_type": "code",
      "source": [
        "google_data.isnull().sum()\n",
        "paytm_data.isnull().sum()\n",
        "phonepe_data.isnull().sum()"
      ],
      "metadata": {
        "execution": {
          "iopub.status.busy": "2023-07-27T18:38:19.330379Z",
          "iopub.execute_input": "2023-07-27T18:38:19.330706Z",
          "iopub.status.idle": "2023-07-27T18:38:19.459089Z",
          "shell.execute_reply.started": "2023-07-27T18:38:19.330681Z",
          "shell.execute_reply": "2023-07-27T18:38:19.458185Z"
        },
        "trusted": true,
        "id": "0J_eXpnk922w"
      },
      "execution_count": null,
      "outputs": []
    },
    {
      "cell_type": "markdown",
      "source": [
        "The null values in replyContent indicate reviews that haven't received a reply from the app's team. The nulls in appVersion are missing data that we'll need to handl"
      ],
      "metadata": {
        "id": "ZlVvpkcF922x"
      }
    },
    {
      "cell_type": "markdown",
      "source": [
        "To fill in the appVersion values, we will need to iterate through each row that has a null value for appVersion. For each of these rows, we will select the date associated with that row. Then, we will go through all the rows that have the same date and identify the version number that occurs most frequently. We will use this most frequent version number to replace the null value in the original row."
      ],
      "metadata": {
        "id": "dxN2OTFD922x"
      }
    },
    {
      "cell_type": "code",
      "source": [
        "null_mask = google_data['appVersion'].isnull() #creates a boolean series with True at rows where 'appVersion' is null\n",
        "\n",
        "for index,row in (google_data[null_mask].iterrows()):\n",
        "  count = google_data[google_data['date']==row['date']]['appVersion'].value_counts()\n",
        "  common = count.index[0]\n",
        "  google_data.loc[index, 'appVersion'] = common"
      ],
      "metadata": {
        "execution": {
          "iopub.status.busy": "2023-07-27T18:38:19.460284Z",
          "iopub.execute_input": "2023-07-27T18:38:19.460576Z",
          "iopub.status.idle": "2023-07-27T18:38:32.235432Z",
          "shell.execute_reply.started": "2023-07-27T18:38:19.460554Z",
          "shell.execute_reply": "2023-07-27T18:38:32.234011Z"
        },
        "trusted": true,
        "id": "hw4CM70o922x"
      },
      "execution_count": null,
      "outputs": []
    },
    {
      "cell_type": "markdown",
      "source": [
        "After this process, we check for null values again. The only null values left are in the replyContent column, representing reviews without a reply from the app's team."
      ],
      "metadata": {
        "id": "-bG6N2HD922x"
      }
    },
    {
      "cell_type": "code",
      "source": [
        "google_data.isnull().sum()"
      ],
      "metadata": {
        "execution": {
          "iopub.status.busy": "2023-07-27T18:38:32.236818Z",
          "iopub.execute_input": "2023-07-27T18:38:32.237211Z",
          "iopub.status.idle": "2023-07-27T18:38:32.288094Z",
          "shell.execute_reply.started": "2023-07-27T18:38:32.237177Z",
          "shell.execute_reply": "2023-07-27T18:38:32.286481Z"
        },
        "trusted": true,
        "id": "2bPOlrWl922x"
      },
      "execution_count": null,
      "outputs": []
    },
    {
      "cell_type": "markdown",
      "source": [
        "The same operations are performed for the paytm_data and phonepe_data as well."
      ],
      "metadata": {
        "id": "BCrkHJsQ922x"
      }
    },
    {
      "cell_type": "code",
      "source": [
        "null_mask = paytm_data['appVersion'].isnull()\n",
        "\n",
        "for index,row in (paytm_data[null_mask].iterrows()):\n",
        "  count = paytm_data[paytm_data['date']==row['date']]['appVersion'].value_counts()\n",
        "  common = count.index[0]\n",
        "  paytm_data.loc[index, 'appVersion'] = common"
      ],
      "metadata": {
        "execution": {
          "iopub.status.busy": "2023-07-27T18:38:32.289664Z",
          "iopub.execute_input": "2023-07-27T18:38:32.290028Z",
          "iopub.status.idle": "2023-07-27T18:38:49.063984Z",
          "shell.execute_reply.started": "2023-07-27T18:38:32.289998Z",
          "shell.execute_reply": "2023-07-27T18:38:49.062914Z"
        },
        "trusted": true,
        "id": "lDwJ7SMq922y"
      },
      "execution_count": null,
      "outputs": []
    },
    {
      "cell_type": "code",
      "source": [
        "null_mask = phonepe_data['appVersion'].isnull()\n",
        "\n",
        "for index,row in (phonepe_data[null_mask].iterrows()):\n",
        "  count = phonepe_data[phonepe_data['date']==row['date']]['appVersion'].value_counts()\n",
        "  common = count.index[0]\n",
        "  phonepe_data.loc[index, 'appVersion'] = common"
      ],
      "metadata": {
        "execution": {
          "iopub.status.busy": "2023-07-27T18:38:49.065555Z",
          "iopub.execute_input": "2023-07-27T18:38:49.065903Z",
          "iopub.status.idle": "2023-07-27T18:39:03.261989Z",
          "shell.execute_reply.started": "2023-07-27T18:38:49.065871Z",
          "shell.execute_reply": "2023-07-27T18:39:03.260981Z"
        },
        "trusted": true,
        "id": "JgveEH6H922y"
      },
      "execution_count": null,
      "outputs": []
    },
    {
      "cell_type": "markdown",
      "source": [
        "## **Creating a table from Most Helpful Reviews for Word Analysis**"
      ],
      "metadata": {
        "id": "DtZQwrxj922y"
      }
    },
    {
      "cell_type": "markdown",
      "source": [
        "First, we will use .value_counts() to find frequency of reviews with a particular number of thumbsUpCount. We plot this on scatterplot using matplotlib"
      ],
      "metadata": {
        "id": "t1hjk5v1922z"
      }
    },
    {
      "cell_type": "code",
      "source": [
        "likes_count = google_data['thumbsUpCount'].value_counts().sort_index()\n",
        "plt.figure(figsize=(10,4))\n",
        "\n",
        "plt.title(\"Number of Likes vs Frequency\")\n",
        "plt.xlabel(\"Number of Likes\")\n",
        "plt.ylabel(\"Frequency\")\n",
        "\n",
        "plt.scatter(likes_count.index, likes_count.values)"
      ],
      "metadata": {
        "execution": {
          "iopub.status.busy": "2023-07-27T18:39:03.263376Z",
          "iopub.execute_input": "2023-07-27T18:39:03.263776Z",
          "iopub.status.idle": "2023-07-27T18:39:03.524514Z",
          "shell.execute_reply.started": "2023-07-27T18:39:03.263744Z",
          "shell.execute_reply": "2023-07-27T18:39:03.52308Z"
        },
        "trusted": true,
        "id": "L5JuJaPX922z"
      },
      "execution_count": null,
      "outputs": []
    },
    {
      "cell_type": "markdown",
      "source": [
        "Plot shows us about half data sits at 0 likes (about 17500 out of 40000). Lets zoom in by defining axes to separate outliers."
      ],
      "metadata": {
        "id": "gTiAaBUS922z"
      }
    },
    {
      "cell_type": "code",
      "source": [
        "plt.figure(figsize=(10,4))\n",
        "plt.xlim(-10,1500)\n",
        "plt.ylim(0,5)\n",
        "plt.title(\"Number of Likes vs Frequency\")\n",
        "plt.xlabel(\"Number of Likes\")\n",
        "plt.ylabel(\"Frequency\")\n",
        "\n",
        "plt.scatter(likes_count.index, likes_count.values)"
      ],
      "metadata": {
        "execution": {
          "iopub.status.busy": "2023-07-27T18:39:03.525855Z",
          "iopub.execute_input": "2023-07-27T18:39:03.526238Z",
          "iopub.status.idle": "2023-07-27T18:39:03.74998Z",
          "shell.execute_reply.started": "2023-07-27T18:39:03.526203Z",
          "shell.execute_reply": "2023-07-27T18:39:03.74886Z"
        },
        "trusted": true,
        "id": "ii4Jjs9B9220"
      },
      "execution_count": null,
      "outputs": []
    },
    {
      "cell_type": "markdown",
      "source": [
        "We will create a separate table for reviews with a thumbs-up count **greater than 1100**. This will allow us to focus on the most highly rated reviews and potentially identify common themes or characteristics that contribute to their popularity. We will also delete these entries (outliers) from original dataframe."
      ],
      "metadata": {
        "id": "UbkHGTjv9220"
      }
    },
    {
      "cell_type": "code",
      "source": [
        "google_mosthelpful = google_data[google_data['thumbsUpCount'] >= 1100]\n",
        "google_data = google_data[google_data['thumbsUpCount'] < 1100]"
      ],
      "metadata": {
        "execution": {
          "iopub.status.busy": "2023-07-27T18:39:03.751821Z",
          "iopub.execute_input": "2023-07-27T18:39:03.752188Z",
          "iopub.status.idle": "2023-07-27T18:39:03.766737Z",
          "shell.execute_reply.started": "2023-07-27T18:39:03.752158Z",
          "shell.execute_reply": "2023-07-27T18:39:03.76583Z"
        },
        "trusted": true,
        "id": "kjCBxuUP9226"
      },
      "execution_count": null,
      "outputs": []
    },
    {
      "cell_type": "markdown",
      "source": [
        "The same operations are performed for the paytm_data and phonepe_data as well."
      ],
      "metadata": {
        "id": "aFqZB6BR9227"
      }
    },
    {
      "cell_type": "code",
      "source": [
        "likes_count = paytm_data['thumbsUpCount'].value_counts().sort_index()\n",
        "plt.figure(figsize=(10,4))\n",
        "\n",
        "plt.title(\"Number of Likes vs Frequency\")\n",
        "plt.xlabel(\"Number of Likes\")\n",
        "plt.ylabel(\"Frequency\")\n",
        "\n",
        "plt.scatter(likes_count.index, likes_count.values)"
      ],
      "metadata": {
        "execution": {
          "iopub.status.busy": "2023-07-27T18:39:03.768205Z",
          "iopub.execute_input": "2023-07-27T18:39:03.768505Z",
          "iopub.status.idle": "2023-07-27T18:39:03.998951Z",
          "shell.execute_reply.started": "2023-07-27T18:39:03.768479Z",
          "shell.execute_reply": "2023-07-27T18:39:03.997237Z"
        },
        "trusted": true,
        "id": "jFs7mAMo9227"
      },
      "execution_count": null,
      "outputs": []
    },
    {
      "cell_type": "code",
      "source": [
        "plt.figure(figsize=(10,4))\n",
        "plt.xlim(-10,1500)\n",
        "plt.ylim(0,5)\n",
        "plt.title(\"Number of Likes vs Frequency\")\n",
        "plt.xlabel(\"Number of Likes\")\n",
        "plt.ylabel(\"Frequency\")\n",
        "\n",
        "plt.scatter(likes_count.index, likes_count.values)"
      ],
      "metadata": {
        "execution": {
          "iopub.status.busy": "2023-07-27T18:39:04.000523Z",
          "iopub.execute_input": "2023-07-27T18:39:04.000861Z",
          "iopub.status.idle": "2023-07-27T18:39:04.224472Z",
          "shell.execute_reply.started": "2023-07-27T18:39:04.000831Z",
          "shell.execute_reply": "2023-07-27T18:39:04.223122Z"
        },
        "trusted": true,
        "id": "gv15ZGZ49227"
      },
      "execution_count": null,
      "outputs": []
    },
    {
      "cell_type": "markdown",
      "source": [
        "We will create a separate table for reviews with a thumbs-up count **greater than 800**."
      ],
      "metadata": {
        "id": "OQ_YWM9b9227"
      }
    },
    {
      "cell_type": "code",
      "source": [
        "paytm_mosthelpful = paytm_data[paytm_data['thumbsUpCount'] >= 800]\n",
        "paytm_data = paytm_data[paytm_data['thumbsUpCount'] < 800]"
      ],
      "metadata": {
        "execution": {
          "iopub.status.busy": "2023-07-27T18:39:04.225852Z",
          "iopub.execute_input": "2023-07-27T18:39:04.226177Z",
          "iopub.status.idle": "2023-07-27T18:39:04.240035Z",
          "shell.execute_reply.started": "2023-07-27T18:39:04.226149Z",
          "shell.execute_reply": "2023-07-27T18:39:04.23883Z"
        },
        "trusted": true,
        "id": "t0aTTyYY9227"
      },
      "execution_count": null,
      "outputs": []
    },
    {
      "cell_type": "code",
      "source": [
        "likes_count = phonepe_data['thumbsUpCount'].value_counts().sort_index()\n",
        "plt.figure(figsize=(10,4))\n",
        "\n",
        "plt.title(\"Number of Likes vs Frequency\")\n",
        "plt.xlabel(\"Number of Likes\")\n",
        "plt.ylabel(\"Frequency\")\n",
        "\n",
        "plt.scatter(likes_count.index, likes_count.values)"
      ],
      "metadata": {
        "execution": {
          "iopub.status.busy": "2023-07-27T18:39:04.241157Z",
          "iopub.execute_input": "2023-07-27T18:39:04.242343Z",
          "iopub.status.idle": "2023-07-27T18:39:04.45881Z",
          "shell.execute_reply.started": "2023-07-27T18:39:04.242308Z",
          "shell.execute_reply": "2023-07-27T18:39:04.457706Z"
        },
        "trusted": true,
        "id": "dpi2HXhJ9228"
      },
      "execution_count": null,
      "outputs": []
    },
    {
      "cell_type": "code",
      "source": [
        "plt.figure(figsize=(10,4))\n",
        "plt.xlim(-10,1500)\n",
        "plt.ylim(0,5)\n",
        "plt.title(\"Number of Likes vs Frequency\")\n",
        "plt.xlabel(\"Number of Likes\")\n",
        "plt.ylabel(\"Frequency\")\n",
        "\n",
        "plt.scatter(likes_count.index, likes_count.values)"
      ],
      "metadata": {
        "execution": {
          "iopub.status.busy": "2023-07-27T18:39:04.460435Z",
          "iopub.execute_input": "2023-07-27T18:39:04.461218Z",
          "iopub.status.idle": "2023-07-27T18:39:04.674991Z",
          "shell.execute_reply.started": "2023-07-27T18:39:04.461192Z",
          "shell.execute_reply": "2023-07-27T18:39:04.673603Z"
        },
        "trusted": true,
        "id": "QBZzvcRK9228"
      },
      "execution_count": null,
      "outputs": []
    },
    {
      "cell_type": "markdown",
      "source": [
        "We will create a separate table for reviews with a thumbs-up count **greater than 800**."
      ],
      "metadata": {
        "id": "HchFa_IJ9228"
      }
    },
    {
      "cell_type": "code",
      "source": [
        "phonepe_mosthelpful = phonepe_data[phonepe_data['thumbsUpCount'] >= 800]\n",
        "phonepe_data = phonepe_data[phonepe_data['thumbsUpCount'] < 800]"
      ],
      "metadata": {
        "execution": {
          "iopub.status.busy": "2023-07-27T18:39:04.677311Z",
          "iopub.execute_input": "2023-07-27T18:39:04.677757Z",
          "iopub.status.idle": "2023-07-27T18:39:04.691504Z",
          "shell.execute_reply.started": "2023-07-27T18:39:04.677724Z",
          "shell.execute_reply": "2023-07-27T18:39:04.690682Z"
        },
        "trusted": true,
        "id": "QErdjxIK9228"
      },
      "execution_count": null,
      "outputs": []
    },
    {
      "cell_type": "markdown",
      "source": [
        "# EDA on Individual Company"
      ],
      "metadata": {
        "id": "2M2zaDqu9229"
      }
    },
    {
      "cell_type": "markdown",
      "source": [
        "### Most Positive Word and Negative Word in Helpful Reviews for GPay"
      ],
      "metadata": {
        "id": "x8whgzA39229"
      }
    },
    {
      "cell_type": "code",
      "source": [
        "from collections import Counter #to count the words\n",
        "import re"
      ],
      "metadata": {
        "execution": {
          "iopub.status.busy": "2023-07-27T18:39:04.692896Z",
          "iopub.execute_input": "2023-07-27T18:39:04.693792Z",
          "iopub.status.idle": "2023-07-27T18:39:04.69983Z",
          "shell.execute_reply.started": "2023-07-27T18:39:04.693754Z",
          "shell.execute_reply": "2023-07-27T18:39:04.698693Z"
        },
        "trusted": true,
        "id": "13oDyATp9229"
      },
      "execution_count": null,
      "outputs": []
    },
    {
      "cell_type": "markdown",
      "source": [
        "The Counter module is imported for counting elements from a list. The RegEx module is used for regular expression operations like splitting strings by (space, dot, comma).\n",
        "\n",
        "We will use list of stopwords(commonly used words in english) found on web and exclude them from our word analysis."
      ],
      "metadata": {
        "id": "26UOif_k9229"
      }
    },
    {
      "cell_type": "code",
      "source": [
        "stopwords = ['i', 'me', 'even',\"don't\",\"it's\",'','my', 'myself', 'we','app', 'our', 'ours', 'ourselves', 'you', 'your', 'yours', 'yourself','got','get', 'yourselves', 'he', 'him', 'his', 'himself', 'she', 'her', 'hers', 'herself', 'it', 'its', 'itself', 'they', 'them', 'their', 'theirs', 'themselves', 'what', 'which', 'who', 'whom', 'this', 'that', 'these', 'those', 'am', 'is', 'are', 'was', 'were', 'be', 'been', 'being', 'have', 'has', 'had', 'having', 'do', 'does', 'did', 'doing', 'a', 'an', 'the', 'and', 'but', 'if', 'or', 'because', 'as', 'until', 'while', 'of', 'at', 'by', 'for', 'with', 'about', 'against', 'between', 'into', 'through', 'during', 'before', 'after', 'above', 'below', 'to', 'from', 'up', 'down', 'in', 'out', 'on', 'off', 'over', 'under', 'again', 'further', 'then', 'once', 'here', 'there', 'when', 'where', 'why', 'how', 'all', 'any', 'both', 'each', 'few', 'more', 'most', 'other', 'some', 'such', 'no', 'nor', 'not', 'only', 'own', 'same', 'so', 'than', 'too', 'very', 's', 't', 'can', 'will', 'just', 'don', 'should', 'now']"
      ],
      "metadata": {
        "execution": {
          "iopub.status.busy": "2023-07-27T18:39:04.70184Z",
          "iopub.execute_input": "2023-07-27T18:39:04.702653Z",
          "iopub.status.idle": "2023-07-27T18:39:04.717025Z",
          "shell.execute_reply.started": "2023-07-27T18:39:04.702611Z",
          "shell.execute_reply": "2023-07-27T18:39:04.715138Z"
        },
        "trusted": true,
        "id": "RdMY6ZKW922-"
      },
      "execution_count": null,
      "outputs": []
    },
    {
      "cell_type": "code",
      "source": [
        "words = []\n",
        "special_characters=['@','#','$','*','&',',','.','(',')','!']\n",
        "google_mosthelpful5 = google_mosthelpful[(google_mosthelpful['score']==5) | (google_mosthelpful['score']==4)]\n",
        "for review in google_mosthelpful5['content']:\n",
        "    for word in re.split(r'[ .,]+', review):\n",
        "        for i in special_characters:\n",
        "          word=word.replace(i,\"\")\n",
        "          if word.lower() not in stopwords:\n",
        "            word = word.lower()\n",
        "            words.append(word)"
      ],
      "metadata": {
        "execution": {
          "iopub.status.busy": "2023-07-27T18:39:04.718584Z",
          "iopub.execute_input": "2023-07-27T18:39:04.719106Z",
          "iopub.status.idle": "2023-07-27T18:39:04.753167Z",
          "shell.execute_reply.started": "2023-07-27T18:39:04.719037Z",
          "shell.execute_reply": "2023-07-27T18:39:04.752Z"
        },
        "trusted": true,
        "id": "VTNlpMod922_"
      },
      "execution_count": null,
      "outputs": []
    },
    {
      "cell_type": "markdown",
      "source": [
        "This block of code splits the content of each review into individual words, **removes special characters and stopwords**, and appends the processed(lower case) words to the words list only if **they are not in stopwords list** . Only reviews with a score of 4 or 5 are considered."
      ],
      "metadata": {
        "id": "9bueStp2922_"
      }
    },
    {
      "cell_type": "code",
      "source": [
        "word_counts = Counter(words)\n",
        "frequent_words = [word for word, count in word_counts.most_common()]\n",
        "word_freq = [count for word, count in word_counts.most_common()]"
      ],
      "metadata": {
        "execution": {
          "iopub.status.busy": "2023-07-27T18:39:04.758761Z",
          "iopub.execute_input": "2023-07-27T18:39:04.759282Z",
          "iopub.status.idle": "2023-07-27T18:39:04.766647Z",
          "shell.execute_reply.started": "2023-07-27T18:39:04.759253Z",
          "shell.execute_reply": "2023-07-27T18:39:04.765401Z"
        },
        "trusted": true,
        "id": "u0x1y720922_"
      },
      "execution_count": null,
      "outputs": []
    },
    {
      "cell_type": "markdown",
      "source": [
        "First line creates a dictionary-like object which counts the frequency of each word in the words list.\n",
        "Later two lines create lists of the most common words and their corresponding frequencies."
      ],
      "metadata": {
        "id": "vPayIcBC923A"
      }
    },
    {
      "cell_type": "markdown",
      "source": [
        "Following block of code creates a bar plot of the most common words and their frequencies. The x-axis represents the words, the y-axis represents the frequency of each word, and each bar in the plot represents a word."
      ],
      "metadata": {
        "id": "bCjN_LWk923A"
      }
    },
    {
      "cell_type": "code",
      "source": [
        "plt.figure(figsize=(14,5))\n",
        "plt.bar(frequent_words,word_freq,color='#34BF49')\n",
        "plt.title('Most Positive words for GPay')\n",
        "plt.xlabel('Positive word')\n",
        "plt.ylabel('Frequency')\n",
        "plt.xlim(-0.5, 15)\n",
        "plt.show()"
      ],
      "metadata": {
        "execution": {
          "iopub.status.busy": "2023-07-27T18:39:04.767977Z",
          "iopub.execute_input": "2023-07-27T18:39:04.768317Z",
          "iopub.status.idle": "2023-07-27T18:39:06.381253Z",
          "shell.execute_reply.started": "2023-07-27T18:39:04.768283Z",
          "shell.execute_reply": "2023-07-27T18:39:06.380191Z"
        },
        "trusted": true,
        "id": "HEcWJy9-923A"
      },
      "execution_count": null,
      "outputs": []
    },
    {
      "cell_type": "markdown",
      "source": [
        "A similar process is repeated for reviews with a score of 1 or 2 to get the most negative words."
      ],
      "metadata": {
        "id": "msefGpPa923A"
      }
    },
    {
      "cell_type": "code",
      "source": [
        "words = []\n",
        "special_characters=['@','#','$','*','&',',','.','(',')','!']\n",
        "google_mosthelpful1 = google_mosthelpful[(google_mosthelpful['score']==1) | (google_mosthelpful['score']==2)]\n",
        "for review in google_mosthelpful1['content']:\n",
        "    for word in re.split(r'[ .,]+', review):\n",
        "        for i in special_characters:\n",
        "          word=word.replace(i,\"\")\n",
        "          if word.lower() not in stopwords:\n",
        "            word = word.lower()\n",
        "            words.append(word)\n",
        "\n",
        "word_counts = Counter(words)\n",
        "frequent_words = [word for word, count in word_counts.most_common()]\n",
        "word_freq = [count for word, count in word_counts.most_common()]\n",
        "\n",
        "plt.figure(figsize=(14,5))\n",
        "plt.bar(frequent_words,word_freq,color='#FF4C4C')\n",
        "plt.title('Most Negative words for GPay')\n",
        "plt.xlabel('Negative word')\n",
        "plt.ylabel('Frequency')\n",
        "plt.xlim(-0.5, 15)\n",
        "plt.show()"
      ],
      "metadata": {
        "execution": {
          "iopub.status.busy": "2023-07-27T18:39:06.382496Z",
          "iopub.execute_input": "2023-07-27T18:39:06.382862Z",
          "iopub.status.idle": "2023-07-27T18:39:10.374019Z",
          "shell.execute_reply.started": "2023-07-27T18:39:06.38283Z",
          "shell.execute_reply": "2023-07-27T18:39:10.372817Z"
        },
        "trusted": true,
        "id": "EVvpe6H7923B"
      },
      "execution_count": null,
      "outputs": []
    },
    {
      "cell_type": "markdown",
      "source": [
        "For Google Pay, the most common positive words are 'easy', 'good', 'great', and 'best', while negative words include 'issue', 'transaction', and 'problem'."
      ],
      "metadata": {
        "id": "D0SOSw_T923D"
      }
    },
    {
      "cell_type": "markdown",
      "source": [
        "### Most Positive Word and Negative Word in Helpful Reviews for Paytm"
      ],
      "metadata": {
        "id": "XJD-184l923E"
      }
    },
    {
      "cell_type": "code",
      "source": [
        "#for positive words\n",
        "words = []\n",
        "special_characters=['@','#','$','*','&',',','.','(',')','!']\n",
        "paytm_mosthelpful5 = paytm_mosthelpful[(paytm_mosthelpful['score']==5)|(paytm_mosthelpful['score']==4)]\n",
        "for review in paytm_mosthelpful5['content']:\n",
        "    for word in re.split(r'[ .,]+', review):\n",
        "        for i in special_characters:\n",
        "          word=word.replace(i,\"\")\n",
        "          if word.lower() not in stopwords:\n",
        "            word = word.lower()\n",
        "            words.append(word)\n",
        "word_counts = Counter(words)\n",
        "frequent_words = [word for word, count in word_counts.most_common()]\n",
        "word_freq = [count for word, count in word_counts.most_common()]\n",
        "plt.figure(figsize=(14,5))\n",
        "plt.bar(frequent_words,word_freq,color='#34BF49')\n",
        "plt.title('Most Positive words for Paytm')\n",
        "plt.xlabel('Positive word')\n",
        "plt.ylabel('Frequency')\n",
        "plt.xlim(-0.5, 15)\n",
        "plt.show()"
      ],
      "metadata": {
        "execution": {
          "iopub.status.busy": "2023-07-27T18:39:10.375174Z",
          "iopub.execute_input": "2023-07-27T18:39:10.375505Z",
          "iopub.status.idle": "2023-07-27T18:39:12.889539Z",
          "shell.execute_reply.started": "2023-07-27T18:39:10.375477Z",
          "shell.execute_reply": "2023-07-27T18:39:12.888144Z"
        },
        "trusted": true,
        "id": "NSdF1mWF923E"
      },
      "execution_count": null,
      "outputs": []
    },
    {
      "cell_type": "code",
      "source": [
        "#for negative words\n",
        "words = []\n",
        "special_characters=['@','#','$','*','&',',','.','(',')','!']\n",
        "paytm_mosthelpful1 = paytm_mosthelpful[(paytm_mosthelpful['score']==1)|(paytm_mosthelpful['score']==2)]\n",
        "for review in paytm_mosthelpful1['content']:\n",
        "    for word in re.split(r'[ .,]+', review):\n",
        "        for i in special_characters:\n",
        "          word=word.replace(i,\"\")\n",
        "          if word.lower() not in stopwords:\n",
        "            word = word.lower()\n",
        "            words.append(word)\n",
        "word_counts = Counter(words)\n",
        "frequent_words = [word for word, count in word_counts.most_common()]\n",
        "word_freq = [count for word, count in word_counts.most_common()]\n",
        "plt.figure(figsize=(14,5))\n",
        "plt.bar(frequent_words,word_freq,color='#FF4C4C')\n",
        "plt.title('Most Negative words for Paytm')\n",
        "plt.xlabel('negative word')\n",
        "plt.ylabel('Frequency')\n",
        "plt.xlim(-0.5, 15)\n",
        "plt.show()"
      ],
      "metadata": {
        "execution": {
          "iopub.status.busy": "2023-07-27T18:39:12.8911Z",
          "iopub.execute_input": "2023-07-27T18:39:12.891565Z",
          "iopub.status.idle": "2023-07-27T18:39:16.766965Z",
          "shell.execute_reply.started": "2023-07-27T18:39:12.89153Z",
          "shell.execute_reply": "2023-07-27T18:39:16.765528Z"
        },
        "trusted": true,
        "id": "md-mrwyy923F"
      },
      "execution_count": null,
      "outputs": []
    },
    {
      "cell_type": "markdown",
      "source": [
        "Negative Words for include 'customer' and 'service' indicating towards poor customer care."
      ],
      "metadata": {
        "id": "EjTCu81i923F"
      }
    },
    {
      "cell_type": "markdown",
      "source": [
        "### Most Positive Word and Negative Word in Helpful Reviews for PhonePe"
      ],
      "metadata": {
        "id": "J2apJgzl923F"
      }
    },
    {
      "cell_type": "code",
      "source": [
        "#for positive words\n",
        "words = []\n",
        "special_characters=['@','#','$','*','&',',','.','(',')','!']\n",
        "phonepe_mosthelpful5 = phonepe_mosthelpful[(phonepe_mosthelpful['score']==5)|(phonepe_mosthelpful['score']==4)]\n",
        "for review in phonepe_mosthelpful5['content']:\n",
        "    for word in re.split(r'[ .,]+', review):\n",
        "        for i in special_characters:\n",
        "          word=word.replace(i,\"\")\n",
        "          if word.lower() not in stopwords:\n",
        "            word = word.lower()\n",
        "            words.append(word)\n",
        "word_counts = Counter(words)\n",
        "frequent_words = [word for word, count in word_counts.most_common()]\n",
        "word_freq = [count for word, count in word_counts.most_common()]\n",
        "plt.figure(figsize=(14,5))\n",
        "plt.bar(frequent_words,word_freq,color='#34BF49')\n",
        "plt.title('Most Positive words for Phonepe')\n",
        "plt.xlabel('Positive word')\n",
        "plt.ylabel('Frequency')\n",
        "plt.xlim(-0.5, 15)\n",
        "plt.show()"
      ],
      "metadata": {
        "execution": {
          "iopub.status.busy": "2023-07-27T18:39:16.76815Z",
          "iopub.execute_input": "2023-07-27T18:39:16.768485Z",
          "iopub.status.idle": "2023-07-27T18:39:18.540026Z",
          "shell.execute_reply.started": "2023-07-27T18:39:16.768441Z",
          "shell.execute_reply": "2023-07-27T18:39:18.539045Z"
        },
        "trusted": true,
        "id": "RPimpQde923F"
      },
      "execution_count": null,
      "outputs": []
    },
    {
      "cell_type": "code",
      "source": [
        "#for negative words\n",
        "words = []\n",
        "special_characters=['@','#','$','*','&',',','.','(',')','!']\n",
        "phonepe_mosthelpful1 = phonepe_mosthelpful[(phonepe_mosthelpful['score']==1)|(phonepe_mosthelpful['score']==2)]\n",
        "for review in phonepe_mosthelpful1['content']:\n",
        "    for word in re.split(r'[ .,]+', review):\n",
        "        for i in special_characters:\n",
        "          word=word.replace(i,\"\")\n",
        "          if word.lower() not in stopwords:\n",
        "            word = word.lower()\n",
        "            words.append(word)\n",
        "word_counts = Counter(words)\n",
        "frequent_words = [word for word, count in word_counts.most_common()]\n",
        "word_freq = [count for word, count in word_counts.most_common()]\n",
        "plt.figure(figsize=(14,5))\n",
        "plt.bar(frequent_words,word_freq,color='#FF4C4C')\n",
        "plt.title('Most Negative words for Phonepe')\n",
        "plt.xlabel('negative word')\n",
        "plt.ylabel('Frequency')\n",
        "plt.xlim(-0.5, 15)\n",
        "plt.show()"
      ],
      "metadata": {
        "execution": {
          "iopub.status.busy": "2023-07-27T18:39:18.541574Z",
          "iopub.execute_input": "2023-07-27T18:39:18.542139Z",
          "iopub.status.idle": "2023-07-27T18:39:22.030482Z",
          "shell.execute_reply.started": "2023-07-27T18:39:18.542106Z",
          "shell.execute_reply": "2023-07-27T18:39:22.029172Z"
        },
        "trusted": true,
        "id": "7qOFTa0d923G"
      },
      "execution_count": null,
      "outputs": []
    },
    {
      "cell_type": "markdown",
      "source": [
        "PhonePe reveals that words like 'best' and 'good' are common in positive reviews, while 'issue', 'transaction' frequently appear in negative reviews."
      ],
      "metadata": {
        "id": "KtSZKiEw923G"
      }
    },
    {
      "cell_type": "markdown",
      "source": [
        "## Relationship Between Scores and Reply Given By Management"
      ],
      "metadata": {
        "id": "mJV9iS6K923G"
      }
    },
    {
      "cell_type": "markdown",
      "source": [
        "Next, we explore the relationship between scores and replies given by the app's management. We categorize each review as either having received a reply or not, then plot the count of each category against the score."
      ],
      "metadata": {
        "id": "gZB3HnCF923H"
      }
    },
    {
      "cell_type": "code",
      "source": [
        "google_data[\"replyContent\"] = google_data[\"replyContent\"].fillna(\"No_reply\")\n",
        "paytm_data[\"replyContent\"] = paytm_data[\"replyContent\"].fillna(\"No_reply\")\n",
        "phonepe_data[\"replyContent\"] = phonepe_data[\"replyContent\"].fillna(\"No_reply\")"
      ],
      "metadata": {
        "execution": {
          "iopub.status.busy": "2023-07-27T18:39:22.032168Z",
          "iopub.execute_input": "2023-07-27T18:39:22.032465Z",
          "iopub.status.idle": "2023-07-27T18:39:22.0674Z",
          "shell.execute_reply.started": "2023-07-27T18:39:22.032422Z",
          "shell.execute_reply": "2023-07-27T18:39:22.066419Z"
        },
        "trusted": true,
        "id": "R-j2rftm923H"
      },
      "execution_count": null,
      "outputs": []
    },
    {
      "cell_type": "markdown",
      "source": [
        "The 'replyContent' column is filled with \"No_reply\" where there are null values.\n",
        "\n",
        "\n",
        "A new column 'reply_given' is created that indicates whether a reply was given or not.\n",
        "\n",
        "A count plot is then created to visualize the relationship between scores and whether a reply was given by the management."
      ],
      "metadata": {
        "id": "9hGo1lgR923H"
      }
    },
    {
      "cell_type": "code",
      "source": [
        "google_data[\"reply_given\"] = google_data[\"replyContent\"].apply(lambda x: \"reply Given\" if x != 'No_reply' else \"No Reply\")\n",
        "plt.figure(figsize=(15,6))\n",
        "sns.countplot(x=\"score\", hue=\"reply_given\", data=google_data,hue_order = ['reply Given','No Reply'])\n",
        "plt.title('Bar Plot To get relationship Between Scores and Reply Given By Management (GPay)')\n",
        "plt.show()"
      ],
      "metadata": {
        "execution": {
          "iopub.status.busy": "2023-07-27T18:39:22.068628Z",
          "iopub.execute_input": "2023-07-27T18:39:22.068922Z",
          "iopub.status.idle": "2023-07-27T18:39:22.319584Z",
          "shell.execute_reply.started": "2023-07-27T18:39:22.068888Z",
          "shell.execute_reply": "2023-07-27T18:39:22.318734Z"
        },
        "trusted": true,
        "id": "P1EkBfbh923I"
      },
      "execution_count": null,
      "outputs": []
    },
    {
      "cell_type": "markdown",
      "source": [
        "This process is repeated for each company's data."
      ],
      "metadata": {
        "id": "fyzIZkKG923I"
      }
    },
    {
      "cell_type": "code",
      "source": [
        "paytm_data[\"reply_given\"] = google_data[\"replyContent\"].apply(lambda x: \"reply Given\" if x != 'No_reply' else \"No Reply\")\n",
        "plt.figure(figsize=(15,6))\n",
        "sns.countplot(x=\"score\", hue=\"reply_given\", data=paytm_data,hue_order = ['reply Given','No Reply'])\n",
        "plt.title('Bar Plot To get relationship Between Scores and Reply Given By Management (PayTM)')\n",
        "plt.show()"
      ],
      "metadata": {
        "execution": {
          "iopub.status.busy": "2023-07-27T18:39:22.320941Z",
          "iopub.execute_input": "2023-07-27T18:39:22.32127Z",
          "iopub.status.idle": "2023-07-27T18:39:22.589934Z",
          "shell.execute_reply.started": "2023-07-27T18:39:22.321239Z",
          "shell.execute_reply": "2023-07-27T18:39:22.588186Z"
        },
        "trusted": true,
        "id": "3LxAWKRZ923I"
      },
      "execution_count": null,
      "outputs": []
    },
    {
      "cell_type": "code",
      "source": [
        "phonepe_data[\"reply_given\"] = google_data[\"replyContent\"].apply(lambda x: \"reply Given\" if x != 'No_reply' else \"No Reply\")\n",
        "plt.figure(figsize=(15,6))\n",
        "sns.countplot(x=\"score\", hue=\"reply_given\", data=phonepe_data, hue_order = ['reply Given','No Reply'] )\n",
        "plt.title('Bar Plot To get relationship Between Scores and Reply Given By Management (PhonePe)')\n",
        "plt.show()"
      ],
      "metadata": {
        "execution": {
          "iopub.status.busy": "2023-07-27T18:39:22.591172Z",
          "iopub.execute_input": "2023-07-27T18:39:22.591536Z",
          "iopub.status.idle": "2023-07-27T18:39:22.858143Z",
          "shell.execute_reply.started": "2023-07-27T18:39:22.59151Z",
          "shell.execute_reply": "2023-07-27T18:39:22.857193Z"
        },
        "trusted": true,
        "id": "u1K0nYxI923I"
      },
      "execution_count": null,
      "outputs": []
    },
    {
      "cell_type": "markdown",
      "source": [
        "The plots reveal that for all three apps, reviews with lower scores (1 and 2) are more likely to receive a reply from the management. This suggests that the management teams of these apps are actively trying to address the issues pointed out in negative reviews. While GPay lacks in replying to higher scores."
      ],
      "metadata": {
        "id": "4CNLAi9g923J"
      }
    },
    {
      "cell_type": "markdown",
      "source": [
        "# Relationship between 'scores' and 'thumbsUpCount'"
      ],
      "metadata": {
        "id": "H3iUNMSr923J"
      }
    },
    {
      "cell_type": "markdown",
      "source": [
        "We also investigate the relationship between scores and the number of upvotes (or 'thumbs up') a review receives. We use a bar plot to visualize the average number of upvotes for each score. Since we have removed outliers, this plots shows us general trend."
      ],
      "metadata": {
        "id": "maDUn9o8923K"
      }
    },
    {
      "cell_type": "markdown",
      "source": [
        "This block of code creates a bar plot to visualize the relationship between 'score' and 'thumbsUpCount'. The x-axis represents the scores, the y-axis represents the number of thumbs up, and each bar represents a score. This is repeated for each company's data."
      ],
      "metadata": {
        "id": "r0gcUWjN923K"
      }
    },
    {
      "cell_type": "code",
      "source": [
        "plt.figure(figsize=(15,6))\n",
        "sns.barplot(x=\"score\", y=\"thumbsUpCount\", data=google_data, palette= [\"#FF0000\", \"#FF4500\", \"#FFA500\", \"#FFFF00\", \"#00FF00\"])\n",
        "plt.title('Bar Plot To get relationship Between Scores and ThumbsUpCount')\n",
        "plt.show()"
      ],
      "metadata": {
        "execution": {
          "iopub.status.busy": "2023-07-27T18:39:22.859272Z",
          "iopub.execute_input": "2023-07-27T18:39:22.859543Z",
          "iopub.status.idle": "2023-07-27T18:39:23.621779Z",
          "shell.execute_reply.started": "2023-07-27T18:39:22.85952Z",
          "shell.execute_reply": "2023-07-27T18:39:23.620024Z"
        },
        "trusted": true,
        "id": "jGVauLV5923K"
      },
      "execution_count": null,
      "outputs": []
    },
    {
      "cell_type": "code",
      "source": [
        "plt.figure(figsize=(15,6))\n",
        "sns.barplot(x=\"score\", y=\"thumbsUpCount\", data=paytm_data,palette= [\"#FF0000\", \"#FF4500\", \"#FFA500\", \"#FFFF00\", \"#00FF00\"])\n",
        "plt.title('Bar Plot To get relationship Between Scores and ThumbsUpCount')\n",
        "plt.show()"
      ],
      "metadata": {
        "execution": {
          "iopub.status.busy": "2023-07-27T18:39:23.623768Z",
          "iopub.execute_input": "2023-07-27T18:39:23.624102Z",
          "iopub.status.idle": "2023-07-27T18:39:24.402563Z",
          "shell.execute_reply.started": "2023-07-27T18:39:23.624073Z",
          "shell.execute_reply": "2023-07-27T18:39:24.400987Z"
        },
        "trusted": true,
        "id": "1Quhm0kb923K"
      },
      "execution_count": null,
      "outputs": []
    },
    {
      "cell_type": "code",
      "source": [
        "plt.figure(figsize=(15,6))\n",
        "sns.barplot(x=\"score\", y=\"thumbsUpCount\", data=phonepe_data,palette= [\"#FF0000\", \"#FF4500\", \"#FFA500\", \"#FFFF00\", \"#00FF00\"])\n",
        "plt.title('Bar Plot To get relationship Between Scores and ThumbsUpCount')\n",
        "plt.show()"
      ],
      "metadata": {
        "execution": {
          "iopub.status.busy": "2023-07-27T18:39:24.403929Z",
          "iopub.execute_input": "2023-07-27T18:39:24.404263Z",
          "iopub.status.idle": "2023-07-27T18:39:25.170122Z",
          "shell.execute_reply.started": "2023-07-27T18:39:24.404233Z",
          "shell.execute_reply": "2023-07-27T18:39:25.168954Z"
        },
        "trusted": true,
        "id": "tKjGUebh923K"
      },
      "execution_count": null,
      "outputs": []
    },
    {
      "cell_type": "markdown",
      "source": [
        "Interestingly, for all three apps, reviews with lower scores (1 and 2 and 3 Stars) tend to receive more upvotes. This could be because users upvote reviews that highlight problems they also face, which are generally expressed in negative reviews."
      ],
      "metadata": {
        "id": "8hoisPYf923L"
      }
    },
    {
      "cell_type": "markdown",
      "source": [
        "# EDA on Combined Data of three apps\n",
        "\n"
      ],
      "metadata": {
        "id": "F21Zil2K923L"
      }
    },
    {
      "cell_type": "markdown",
      "source": [
        "Finally, we perform some analysis on the combined data of all three apps. This enables us to compare the apps and draw some overall conclusions."
      ],
      "metadata": {
        "id": "Az60HMap923L"
      }
    },
    {
      "cell_type": "code",
      "source": [
        "google_data[\"upi_app\"] = \"GPay\"\n",
        "paytm_data[\"upi_app\"] = \"Paytm\"\n",
        "phonepe_data[\"upi_app\"] = \"PhonePe\"\n",
        "\n",
        "combineddata = pd.concat([google_data,paytm_data,phonepe_data],ignore_index=True)"
      ],
      "metadata": {
        "execution": {
          "iopub.status.busy": "2023-07-27T18:39:25.171562Z",
          "iopub.execute_input": "2023-07-27T18:39:25.171953Z",
          "iopub.status.idle": "2023-07-27T18:39:25.205014Z",
          "shell.execute_reply.started": "2023-07-27T18:39:25.171911Z",
          "shell.execute_reply": "2023-07-27T18:39:25.203856Z"
        },
        "trusted": true,
        "id": "5M4eG8bx923L"
      },
      "execution_count": null,
      "outputs": []
    },
    {
      "cell_type": "markdown",
      "source": [
        "This block of code adds a new column 'upi_app' to each dataset to indicate the company, then concatenates all datasets into a new dataframe 'combineddata'."
      ],
      "metadata": {
        "id": "gaa5CoN-923M"
      }
    },
    {
      "cell_type": "markdown",
      "source": [
        "## Comparison of Reviews Across Apps"
      ],
      "metadata": {
        "id": "QyrWdUgX923M"
      }
    },
    {
      "cell_type": "markdown",
      "source": [
        "We start by looking at the distribution of scores across the three apps. This is visualized using a count plot, which shows the number of reviews for each score, separated by the app."
      ],
      "metadata": {
        "id": "D4-xNygV923M"
      }
    },
    {
      "cell_type": "markdown",
      "source": [
        "A count plot is created to show which company has the maximum number of reviews in all categories. The x-axis represents the scores, the y-axis represents the number of reviews, and the different colors in each bar represent different companies."
      ],
      "metadata": {
        "id": "crQc7N8F923M"
      }
    },
    {
      "cell_type": "code",
      "source": [
        "plt.figure(figsize=(15,6))\n",
        "sns.countplot(x=\"score\", hue=\"upi_app\", data=combineddata,  palette=['#EA4335','#00B9F1','#6739B7'])\n",
        "plt.xlabel('Stars')\n",
        "plt.ylabel('No. of reviews')\n",
        "plt.title('Bar Plot To Show which Company has maximum number of reviews in all category')\n",
        "plt.show()"
      ],
      "metadata": {
        "execution": {
          "iopub.status.busy": "2023-07-27T18:39:25.208667Z",
          "iopub.execute_input": "2023-07-27T18:39:25.208981Z",
          "iopub.status.idle": "2023-07-27T18:39:25.494902Z",
          "shell.execute_reply.started": "2023-07-27T18:39:25.208954Z",
          "shell.execute_reply": "2023-07-27T18:39:25.493645Z"
        },
        "trusted": true,
        "id": "PBhj_Cg9923M"
      },
      "execution_count": null,
      "outputs": []
    },
    {
      "cell_type": "markdown",
      "source": [
        "The plot reveals that Phonepe has highest number of 5 star and 4 star reviews followed by Paytm. However, Google Pay has a higher proportion of 1-star reviews, suggesting lower overall user satisfaction."
      ],
      "metadata": {
        "id": "B0VnrjAj923M"
      }
    },
    {
      "cell_type": "markdown",
      "source": [
        "## Percentage of Unreplied Reviews by Management"
      ],
      "metadata": {
        "id": "_WGLEZe6923N"
      }
    },
    {
      "cell_type": "markdown",
      "source": [
        "We also look at the percentage of reviews that did not receive a reply from the management team. This is calculated as the number of reviews with no reply divided by the total number of reviews, for each app."
      ],
      "metadata": {
        "id": "tiMYBOmx923N"
      }
    },
    {
      "cell_type": "markdown",
      "source": [
        "This block of code calculates the percentage of reviews to which each company didn't reply and visualizes it in a bar plot. The x-axis represents the companies, the y-axis represents the percentage of no reply, and each bar represents a company."
      ],
      "metadata": {
        "id": "PHyT3yc4923N"
      }
    },
    {
      "cell_type": "code",
      "source": [
        "no_replies = combineddata[combineddata['replyContent'] == 'No_reply'].groupby('upi_app')['replyContent'].count()\n",
        "total_replies = combineddata.groupby('upi_app')['replyContent'].count()\n",
        "percentages = (no_replies / total_replies) * 100\n",
        "\n",
        "\n",
        "sns.barplot(x=percentages.index, y=percentages,palette=['#EA4335','#00B9F1','#6739B7'])\n",
        "plt.ylabel('Percentage of No Reply by Management')\n",
        "plt.show()"
      ],
      "metadata": {
        "trusted": true,
        "id": "rCvCoREK923N"
      },
      "execution_count": null,
      "outputs": []
    },
    {
      "cell_type": "markdown",
      "source": [
        "The bar plot reveals that Google Pay has the highest percentage of unreplied reviews, followed by PhonePe and Paytm. This suggests that Paytm's management team is the most responsive in addressing user feedback."
      ],
      "metadata": {
        "id": "o9wVokDs923N"
      }
    },
    {
      "cell_type": "markdown",
      "source": [
        "."
      ],
      "metadata": {
        "id": "O6dOSsYR923O"
      }
    },
    {
      "cell_type": "markdown",
      "source": [
        "# Conclusion and Recommendations"
      ],
      "metadata": {
        "id": "ydbuqmWm923P"
      }
    },
    {
      "cell_type": "markdown",
      "source": [
        "### Our EDA has revealed some interesting insights about user reviews for Google Pay, Paytm, and PhonePe.\n",
        "#### Here are some key takeaways:\n",
        "\n",
        "1. Google Pay has the highest proportion of 1-star reviews, suggesting lower overall user satisfaction.\n",
        "2. Paytm's management team is the most responsive in addressing user feedback.\n",
        "3. Negative reviews tend to receive more upvotes and are more likely to be responded to by the management.\n",
        "4. Based on these findings, we recommend that the app management teams focus on addressing the issues highlighted in negative reviews, as these are often upvoted by other users facing similar issues. Additionally, maintaining a high response rate to user feedback can improve user satisfaction and potentially improve app ratings.\n",
        "\n",
        "#### For individual performance improvements, we recommend the following:\n",
        "\n",
        "##### **Google Pay:**\n",
        "The most common negative words in the reviews are 'issue' and 'transaction'. This suggests that users are having problems while performing transactions. Possible improvements could include:\n",
        "\n",
        "* Transaction process: Investigate why users are reporting issues with transactions. This could be due to app crashes during transactions, transactions failing but the amount being debited, or users not receiving cashback or rewards promised by the app. Once the root cause is identified, necessary steps should be taken to rectify the issues.\n",
        "\n",
        "* Clear communication: Ensure that any errors or issues are clearly communicated to the users. If there is a problem with the transaction, the app should provide a clear and understandable reason for the failure. This will help users understand what went wrong and how to prevent it in the future.\n",
        "\n",
        "* High Proportion of 1-star reviews: It's crucial to identify and address the common issues raised in these reviews. The analysis of negative words shows that 'transaction' and 'issue' are common, indicating possible issues with transaction processes in the app.\n",
        "\n",
        "##### **Paytm:**\n",
        "While the management team's response rate is commendable, efforts should be made to improve the overall user experience, as indicated by the high number of negative reviews.The common negative words are 'customer' and 'service', indicating issues with customer service.\n",
        "\n",
        "* Customer service: Invest in improving customer service response times and effectiveness. Users should feel that their concerns are heard and addressed promptly and satisfactorily.\n",
        "\n",
        "* User experience: A high number of reviews may point to complexities in the app interface that are causing users to seek help. Simplifying the user interface and making it more intuitive could reduce the need for customer service interaction.\n",
        "\n",
        "\n",
        "##### **PhonePe:**\n",
        "Similar to Paytm, the focus should be on improving the user experience and addressing common issues raised in negative reviews.\n",
        "The word 'transaction' appears commonly in negative reviews, similar to Google Pay.\n",
        "\n",
        "* Transaction process: Like Google Pay, PhonePe should investigate and address the transaction-related issues reported by users.\n",
        "\n",
        "####  > Remember, this is just the tip of the iceberg. So, keep exploring and happy analyzing!"
      ],
      "metadata": {
        "id": "PMfwWWuN923P"
      }
    }
  ]
}